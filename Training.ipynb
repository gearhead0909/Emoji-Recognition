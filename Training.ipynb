{
 "cells": [
  {
   "cell_type": "markdown",
   "metadata": {},
   "source": [
    "# Training Model"
   ]
  },
  {
   "cell_type": "code",
   "execution_count": 1,
   "metadata": {},
   "outputs": [],
   "source": [
    "import tensorflow as tf\n",
    "gpus = tf.config.experimental.list_physical_devices('GPU')\n",
    "if gpus:\n",
    "  try:\n",
    "    for gpu in gpus:\n",
    "      tf.config.experimental.set_memory_growth(gpu, True)\n",
    "  except RuntimeError as e:\n",
    "    print(e)"
   ]
  },
  {
   "cell_type": "code",
   "execution_count": 2,
   "metadata": {},
   "outputs": [],
   "source": [
    "import pandas as pd\n",
    "import numpy as np\n",
    "import random "
   ]
  },
  {
   "cell_type": "markdown",
   "metadata": {},
   "source": [
    "### Importing Data"
   ]
  },
  {
   "cell_type": "code",
   "execution_count": 3,
   "metadata": {},
   "outputs": [],
   "source": [
    "#Load Data\n",
    "Data = pd.read_csv(\"data.csv\")"
   ]
  },
  {
   "cell_type": "code",
   "execution_count": 5,
   "metadata": {},
   "outputs": [],
   "source": [
    "# Convert to DataFrame\n",
    "df = pd.DataFrame(Data)"
   ]
  },
  {
   "cell_type": "code",
   "execution_count": 6,
   "metadata": {},
   "outputs": [],
   "source": [
    "# Shuffle Rows\n",
    "df = df.sample(frac = 1) "
   ]
  },
  {
   "cell_type": "code",
   "execution_count": 8,
   "metadata": {},
   "outputs": [],
   "source": [
    "# Convert to np array\n",
    "dataset = np.array(df)"
   ]
  },
  {
   "cell_type": "markdown",
   "metadata": {},
   "source": [
    "### Splitting in data and labels"
   ]
  },
  {
   "cell_type": "code",
   "execution_count": 9,
   "metadata": {},
   "outputs": [],
   "source": [
    "labels = dataset[:, 0] # Labels\n",
    "data = dataset[:, 1:2501] # Pixel values"
   ]
  },
  {
   "cell_type": "markdown",
   "metadata": {},
   "source": [
    "### Splitting in Train/Test"
   ]
  },
  {
   "cell_type": "code",
   "execution_count": 10,
   "metadata": {},
   "outputs": [
    {
     "data": {
      "text/plain": [
       "(13199, 2500)"
      ]
     },
     "execution_count": 10,
     "metadata": {},
     "output_type": "execute_result"
    }
   ],
   "source": [
    "#Data Shape\n",
    "data.shape"
   ]
  },
  {
   "cell_type": "code",
   "execution_count": 11,
   "metadata": {},
   "outputs": [],
   "source": [
    "#Train\n",
    "data_train = data[0:10000, :]\n",
    "data_train = data_train / 255.\n",
    "#Test\n",
    "data_test = data[10000:, :]\n",
    "data_test = data_test / 255."
   ]
  },
  {
   "cell_type": "code",
   "execution_count": 12,
   "metadata": {},
   "outputs": [
    {
     "name": "stdout",
     "output_type": "stream",
     "text": [
      "(10000, 2500)\n",
      "(3199, 2500)\n"
     ]
    }
   ],
   "source": [
    "print(data_train.shape)\n",
    "print(data_test.shape)"
   ]
  },
  {
   "cell_type": "code",
   "execution_count": 13,
   "metadata": {},
   "outputs": [
    {
     "data": {
      "text/plain": [
       "(13199,)"
      ]
     },
     "execution_count": 13,
     "metadata": {},
     "output_type": "execute_result"
    }
   ],
   "source": [
    "#Labels Shape\n",
    "labels.shape"
   ]
  },
  {
   "cell_type": "code",
   "execution_count": 14,
   "metadata": {},
   "outputs": [],
   "source": [
    "#Reshape\n",
    "labels = labels.reshape(labels.shape[0], 1)\n",
    "#Train\n",
    "labels_train = labels[0:10000, :]\n",
    "labels_train = labels_train.T\n",
    "#Test\n",
    "labels_test = labels[10000:, :]\n",
    "labels_test = labels_test.T"
   ]
  },
  {
   "cell_type": "code",
   "execution_count": 15,
   "metadata": {},
   "outputs": [
    {
     "name": "stdout",
     "output_type": "stream",
     "text": [
      "[[1 5 7 ... 3 8 5]]\n",
      "[[ 8  1  2 ...  5 10  8]]\n"
     ]
    }
   ],
   "source": [
    "print(labels_train)\n",
    "print(labels_test)"
   ]
  },
  {
   "cell_type": "markdown",
   "metadata": {},
   "source": [
    "### One-hot Encoding"
   ]
  },
  {
   "cell_type": "code",
   "execution_count": 16,
   "metadata": {},
   "outputs": [],
   "source": [
    "from keras.utils import np_utils"
   ]
  },
  {
   "cell_type": "code",
   "execution_count": 17,
   "metadata": {},
   "outputs": [],
   "source": [
    "y_train = np_utils.to_categorical(labels_train)\n",
    "y_test  = np_utils.to_categorical(labels_test)"
   ]
  },
  {
   "cell_type": "markdown",
   "metadata": {},
   "source": [
    "### Reshaping variables"
   ]
  },
  {
   "cell_type": "code",
   "execution_count": 18,
   "metadata": {},
   "outputs": [],
   "source": [
    "train_y = y_train.reshape(y_train.shape[1], y_train.shape[2])\n",
    "test_y = y_test.reshape(y_test.shape[1], y_test.shape[2])"
   ]
  },
  {
   "cell_type": "code",
   "execution_count": 19,
   "metadata": {},
   "outputs": [],
   "source": [
    "train_x = data_train.reshape(data_train.shape[0], 50, 50, 1)\n",
    "test_x = data_test.reshape(data_test.shape[0], 50, 50, 1)"
   ]
  },
  {
   "cell_type": "code",
   "execution_count": 20,
   "metadata": {},
   "outputs": [
    {
     "data": {
      "text/plain": [
       "(10000, 50, 50, 1)"
      ]
     },
     "execution_count": 20,
     "metadata": {},
     "output_type": "execute_result"
    }
   ],
   "source": [
    "train_x.shape"
   ]
  },
  {
   "cell_type": "code",
   "execution_count": 21,
   "metadata": {},
   "outputs": [
    {
     "data": {
      "text/plain": [
       "(3199, 50, 50, 1)"
      ]
     },
     "execution_count": 21,
     "metadata": {},
     "output_type": "execute_result"
    }
   ],
   "source": [
    "test_x.shape"
   ]
  },
  {
   "cell_type": "markdown",
   "metadata": {},
   "source": [
    "### Model Building"
   ]
  },
  {
   "cell_type": "code",
   "execution_count": 22,
   "metadata": {},
   "outputs": [],
   "source": [
    "from keras.models import Sequential\n",
    "from keras.layers import Dense, Conv2D, Flatten, MaxPooling2D, Dropout\n",
    "from keras.callbacks import ModelCheckpoint"
   ]
  },
  {
   "cell_type": "code",
   "execution_count": 23,
   "metadata": {},
   "outputs": [],
   "source": [
    "# Number of classes\n",
    "classes = 12"
   ]
  },
  {
   "cell_type": "code",
   "execution_count": 24,
   "metadata": {},
   "outputs": [],
   "source": [
    "model = Sequential()\n",
    "model.add(Conv2D(32, (5, 5), input_shape=(50, 50, 1), activation='relu'))\n",
    "model.add(MaxPooling2D(pool_size=(2, 2), strides=(2, 2), padding='same'))\n",
    "model.add(Conv2D(64, (5, 5), activation='sigmoid'))\n",
    "model.add(MaxPooling2D(pool_size=(5, 5), strides=(5, 5), padding='same'))\n",
    "model.add(Flatten())\n",
    "model.add(Dense(1024, activation='relu'))\n",
    "model.add(Dropout(0.6))\n",
    "model.add(Dense(classes, activation='softmax'))"
   ]
  },
  {
   "cell_type": "markdown",
   "metadata": {},
   "source": [
    "### Compiling Model"
   ]
  },
  {
   "cell_type": "code",
   "execution_count": 25,
   "metadata": {},
   "outputs": [],
   "source": [
    "# loss=categorical_crossentropy\n",
    "# optimizer= adam"
   ]
  },
  {
   "cell_type": "code",
   "execution_count": 26,
   "metadata": {},
   "outputs": [],
   "source": [
    "model.compile(loss='categorical_crossentropy', optimizer='adam', metrics=['accuracy'])"
   ]
  },
  {
   "cell_type": "code",
   "execution_count": 27,
   "metadata": {},
   "outputs": [],
   "source": [
    "# Creating Checkpoint"
   ]
  },
  {
   "cell_type": "code",
   "execution_count": 28,
   "metadata": {},
   "outputs": [],
   "source": [
    "filepath = \"emojinator.h5\"\n",
    "checkpoint1 = ModelCheckpoint(filepath, monitor='val_acc', verbose=1, save_best_only=True, mode='max')\n",
    "callbacks_list = [checkpoint1]"
   ]
  },
  {
   "cell_type": "markdown",
   "metadata": {},
   "source": [
    "### Training Model"
   ]
  },
  {
   "cell_type": "code",
   "execution_count": 29,
   "metadata": {},
   "outputs": [
    {
     "name": "stdout",
     "output_type": "stream",
     "text": [
      "Epoch 1/25\n",
      "157/157 [==============================] - ETA: 0s - loss: 0.6481 - accuracy: 0.8059WARNING:tensorflow:Can save best model only with val_acc available, skipping.\n",
      "157/157 [==============================] - 8s 53ms/step - loss: 0.6481 - accuracy: 0.8059 - val_loss: 0.0116 - val_accuracy: 0.9975\n",
      "Epoch 2/25\n",
      "157/157 [==============================] - ETA: 0s - loss: 0.0180 - accuracy: 0.9957WARNING:tensorflow:Can save best model only with val_acc available, skipping.\n",
      "157/157 [==============================] - 9s 56ms/step - loss: 0.0180 - accuracy: 0.9957 - val_loss: 0.0016 - val_accuracy: 1.0000\n",
      "Epoch 3/25\n",
      "156/157 [============================>.] - ETA: 0s - loss: 0.0043 - accuracy: 0.9993WARNING:tensorflow:Can save best model only with val_acc available, skipping.\n",
      "157/157 [==============================] - 8s 54ms/step - loss: 0.0043 - accuracy: 0.9993 - val_loss: 3.4788e-04 - val_accuracy: 1.0000\n",
      "Epoch 4/25\n",
      "157/157 [==============================] - ETA: 0s - loss: 0.0023 - accuracy: 0.9996WARNING:tensorflow:Can save best model only with val_acc available, skipping.\n",
      "157/157 [==============================] - 8s 49ms/step - loss: 0.0023 - accuracy: 0.9996 - val_loss: 0.0012 - val_accuracy: 1.0000\n",
      "Epoch 5/25\n",
      "156/157 [============================>.] - ETA: 0s - loss: 0.0027 - accuracy: 0.9996WARNING:tensorflow:Can save best model only with val_acc available, skipping.\n",
      "157/157 [==============================] - 8s 51ms/step - loss: 0.0027 - accuracy: 0.9996 - val_loss: 7.9121e-05 - val_accuracy: 1.0000\n",
      "Epoch 6/25\n",
      "157/157 [==============================] - ETA: 0s - loss: 8.6288e-04 - accuracy: 1.0000WARNING:tensorflow:Can save best model only with val_acc available, skipping.\n",
      "157/157 [==============================] - 8s 49ms/step - loss: 8.6288e-04 - accuracy: 1.0000 - val_loss: 4.9379e-05 - val_accuracy: 1.0000\n",
      "Epoch 7/25\n",
      "156/157 [============================>.] - ETA: 0s - loss: 0.0011 - accuracy: 0.9998WARNING:tensorflow:Can save best model only with val_acc available, skipping.\n",
      "157/157 [==============================] - 8s 51ms/step - loss: 0.0011 - accuracy: 0.9998 - val_loss: 6.8104e-05 - val_accuracy: 1.0000\n",
      "Epoch 8/25\n",
      "156/157 [============================>.] - ETA: 0s - loss: 6.3713e-04 - accuracy: 1.0000WARNING:tensorflow:Can save best model only with val_acc available, skipping.\n",
      "157/157 [==============================] - 8s 51ms/step - loss: 6.3656e-04 - accuracy: 1.0000 - val_loss: 2.0576e-05 - val_accuracy: 1.0000\n",
      "Epoch 9/25\n",
      "156/157 [============================>.] - ETA: 0s - loss: 2.9934e-04 - accuracy: 1.0000WARNING:tensorflow:Can save best model only with val_acc available, skipping.\n",
      "157/157 [==============================] - 8s 53ms/step - loss: 3.0155e-04 - accuracy: 1.0000 - val_loss: 1.6482e-05 - val_accuracy: 1.0000\n",
      "Epoch 10/25\n",
      "157/157 [==============================] - ETA: 0s - loss: 5.6006e-04 - accuracy: 0.9999WARNING:tensorflow:Can save best model only with val_acc available, skipping.\n",
      "157/157 [==============================] - 8s 49ms/step - loss: 5.6006e-04 - accuracy: 0.9999 - val_loss: 1.6456e-05 - val_accuracy: 1.0000\n",
      "Epoch 11/25\n",
      "156/157 [============================>.] - ETA: 0s - loss: 7.3621e-04 - accuracy: 0.9999WARNING:tensorflow:Can save best model only with val_acc available, skipping.\n",
      "157/157 [==============================] - 8s 50ms/step - loss: 7.3531e-04 - accuracy: 0.9999 - val_loss: 1.2745e-04 - val_accuracy: 1.0000\n",
      "Epoch 12/25\n",
      "157/157 [==============================] - ETA: 0s - loss: 0.0108 - accuracy: 0.9973WARNING:tensorflow:Can save best model only with val_acc available, skipping.\n",
      "157/157 [==============================] - 8s 52ms/step - loss: 0.0108 - accuracy: 0.9973 - val_loss: 0.0020 - val_accuracy: 0.9991\n",
      "Epoch 13/25\n",
      "157/157 [==============================] - ETA: 0s - loss: 0.0034 - accuracy: 0.9988WARNING:tensorflow:Can save best model only with val_acc available, skipping.\n",
      "157/157 [==============================] - 8s 53ms/step - loss: 0.0034 - accuracy: 0.9988 - val_loss: 5.6315e-05 - val_accuracy: 1.0000\n",
      "Epoch 14/25\n",
      "156/157 [============================>.] - ETA: 0s - loss: 5.1652e-04 - accuracy: 0.9999WARNING:tensorflow:Can save best model only with val_acc available, skipping.\n",
      "157/157 [==============================] - 9s 56ms/step - loss: 5.2244e-04 - accuracy: 0.9999 - val_loss: 1.0359e-05 - val_accuracy: 1.0000\n",
      "Epoch 15/25\n",
      "157/157 [==============================] - ETA: 0s - loss: 2.6790e-04 - accuracy: 1.0000WARNING:tensorflow:Can save best model only with val_acc available, skipping.\n",
      "157/157 [==============================] - 9s 58ms/step - loss: 2.6790e-04 - accuracy: 1.0000 - val_loss: 1.6664e-06 - val_accuracy: 1.0000\n",
      "Epoch 16/25\n",
      "156/157 [============================>.] - ETA: 0s - loss: 7.5226e-05 - accuracy: 1.0000WARNING:tensorflow:Can save best model only with val_acc available, skipping.\n",
      "157/157 [==============================] - 8s 48ms/step - loss: 7.5106e-05 - accuracy: 1.0000 - val_loss: 1.3789e-06 - val_accuracy: 1.0000\n",
      "Epoch 17/25\n",
      "157/157 [==============================] - ETA: 0s - loss: 7.2515e-05 - accuracy: 1.0000WARNING:tensorflow:Can save best model only with val_acc available, skipping.\n",
      "157/157 [==============================] - 7s 46ms/step - loss: 7.2515e-05 - accuracy: 1.0000 - val_loss: 1.2265e-06 - val_accuracy: 1.0000\n",
      "Epoch 18/25\n",
      "156/157 [============================>.] - ETA: 0s - loss: 8.1739e-05 - accuracy: 1.0000WARNING:tensorflow:Can save best model only with val_acc available, skipping.\n",
      "157/157 [==============================] - 8s 50ms/step - loss: 8.1613e-05 - accuracy: 1.0000 - val_loss: 1.0280e-06 - val_accuracy: 1.0000\n",
      "Epoch 19/25\n",
      "156/157 [============================>.] - ETA: 0s - loss: 5.6908e-05 - accuracy: 1.0000WARNING:tensorflow:Can save best model only with val_acc available, skipping.\n",
      "157/157 [==============================] - 8s 51ms/step - loss: 5.6818e-05 - accuracy: 1.0000 - val_loss: 6.1327e-07 - val_accuracy: 1.0000\n",
      "Epoch 20/25\n",
      "156/157 [============================>.] - ETA: 0s - loss: 3.2726e-05 - accuracy: 1.0000WARNING:tensorflow:Can save best model only with val_acc available, skipping.\n",
      "157/157 [==============================] - 8s 52ms/step - loss: 3.2707e-05 - accuracy: 1.0000 - val_loss: 5.5592e-07 - val_accuracy: 1.0000\n",
      "Epoch 21/25\n",
      "157/157 [==============================] - ETA: 0s - loss: 6.0919e-05 - accuracy: 1.0000WARNING:tensorflow:Can save best model only with val_acc available, skipping.\n",
      "157/157 [==============================] - 8s 51ms/step - loss: 6.0919e-05 - accuracy: 1.0000 - val_loss: 3.1021e-07 - val_accuracy: 1.0000\n",
      "Epoch 22/25\n",
      "156/157 [============================>.] - ETA: 0s - loss: 6.4804e-04 - accuracy: 0.9999WARNING:tensorflow:Can save best model only with val_acc available, skipping.\n",
      "157/157 [==============================] - 7s 46ms/step - loss: 6.4703e-04 - accuracy: 0.9999 - val_loss: 7.9535e-06 - val_accuracy: 1.0000\n",
      "Epoch 23/25\n",
      "157/157 [==============================] - ETA: 0s - loss: 3.4910e-04 - accuracy: 1.0000WARNING:tensorflow:Can save best model only with val_acc available, skipping.\n",
      "157/157 [==============================] - 7s 45ms/step - loss: 3.4910e-04 - accuracy: 1.0000 - val_loss: 1.2107e-07 - val_accuracy: 1.0000\n",
      "Epoch 24/25\n",
      "157/157 [==============================] - ETA: 0s - loss: 8.0735e-05 - accuracy: 1.0000WARNING:tensorflow:Can save best model only with val_acc available, skipping.\n",
      "157/157 [==============================] - 7s 45ms/step - loss: 8.0735e-05 - accuracy: 1.0000 - val_loss: 8.5149e-08 - val_accuracy: 1.0000\n",
      "Epoch 25/25\n",
      "157/157 [==============================] - ETA: 0s - loss: 0.0033 - accuracy: 0.9991WARNING:tensorflow:Can save best model only with val_acc available, skipping.\n",
      "157/157 [==============================] - 8s 51ms/step - loss: 0.0033 - accuracy: 0.9991 - val_loss: 2.0605e-04 - val_accuracy: 1.0000\n"
     ]
    },
    {
     "data": {
      "text/plain": [
       "<tensorflow.python.keras.callbacks.History at 0x7efbd11bcd30>"
      ]
     },
     "execution_count": 29,
     "metadata": {},
     "output_type": "execute_result"
    }
   ],
   "source": [
    "model.fit(train_x, train_y, validation_data=(test_x, test_y), epochs=25, batch_size=64, callbacks=callbacks_list)"
   ]
  },
  {
   "cell_type": "markdown",
   "metadata": {},
   "source": [
    "### Evaluate model on test dataset"
   ]
  },
  {
   "cell_type": "code",
   "execution_count": 30,
   "metadata": {},
   "outputs": [],
   "source": [
    "scores = model.evaluate(test_x, test_y, verbose=0)"
   ]
  },
  {
   "cell_type": "code",
   "execution_count": 31,
   "metadata": {},
   "outputs": [
    {
     "name": "stdout",
     "output_type": "stream",
     "text": [
      "Model Accuracy: 100.00%\n"
     ]
    }
   ],
   "source": [
    "print(\"Model Accuracy: %.2f%%\" % (scores[1] * 100))"
   ]
  },
  {
   "cell_type": "markdown",
   "metadata": {},
   "source": [
    "### Saving the model"
   ]
  },
  {
   "cell_type": "code",
   "execution_count": 32,
   "metadata": {},
   "outputs": [],
   "source": [
    "model.save('emoji_detection.h5')"
   ]
  }
 ],
 "metadata": {
  "kernelspec": {
   "display_name": "Python 3",
   "language": "python",
   "name": "python3"
  },
  "language_info": {
   "codemirror_mode": {
    "name": "ipython",
    "version": 3
   },
   "file_extension": ".py",
   "mimetype": "text/x-python",
   "name": "python",
   "nbconvert_exporter": "python",
   "pygments_lexer": "ipython3",
   "version": "3.8.5"
  }
 },
 "nbformat": 4,
 "nbformat_minor": 4
}
