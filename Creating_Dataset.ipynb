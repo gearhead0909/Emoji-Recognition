{
 "cells": [
  {
   "cell_type": "markdown",
   "metadata": {},
   "source": [
    "# Creating Dataset"
   ]
  },
  {
   "cell_type": "code",
   "execution_count": null,
   "metadata": {},
   "outputs": [],
   "source": [
    "import numpy as np\n",
    "import os\n",
    "import cv2"
   ]
  },
  {
   "cell_type": "markdown",
   "metadata": {},
   "source": [
    "### Setting Image size"
   ]
  },
  {
   "cell_type": "code",
   "execution_count": null,
   "metadata": {},
   "outputs": [],
   "source": [
    "x_image = 50\n",
    "y_image = 50"
   ]
  },
  {
   "cell_type": "markdown",
   "metadata": {},
   "source": [
    "### Checking/Creating Folder Directory"
   ]
  },
  {
   "cell_type": "code",
   "execution_count": null,
   "metadata": {},
   "outputs": [],
   "source": [
    "def create_folder(folder_name):\n",
    "    if not os.path.exists(folder_name):\n",
    "        os.makedirs(folder_name)"
   ]
  },
  {
   "cell_type": "code",
   "execution_count": null,
   "metadata": {},
   "outputs": [],
   "source": [
    "def store_images(g_id):\n",
    "    \n",
    "    # Total images per class\n",
    "    total_images = 1200\n",
    "    \n",
    "    # Initializing Camera\n",
    "    cap = cv2.VideoCapture(0)\n",
    "    \n",
    "    # Creating Directory\n",
    "    name = (\"Gestures/\" + str(g_id))\n",
    "    create_folder(name)\n",
    "    \n",
    "    \n",
    "    pic_no = 0\n",
    "    flag_start_capturing = False\n",
    "    frames = 0\n",
    "    while True:\n",
    "        # Read image\n",
    "        ret, frame = cap.read()\n",
    "        # Flip Image\n",
    "        frame = cv2.flip(frame, 1)\n",
    "        # BGR2HSV\n",
    "        hsv = cv2.cvtColor(frame, cv2.COLOR_BGR2HSV)\n",
    "        # Extracting color from image\n",
    "        mask = cv2.inRange(hsv, np.array([2, 25, 78]), np.array([25, 150, 255]))\n",
    "        # Merging two images\n",
    "        res = cv2.bitwise_and(frame, frame, mask=mask)\n",
    "        # BGR2Gray\n",
    "        gray = cv2.cvtColor(res, cv2.COLOR_BGR2GRAY)\n",
    "        # Blurring image\n",
    "        median = cv2.GaussianBlur(gray, (5,5), 0)\n",
    "        \n",
    "        # Dilation + Opening {Increasing area of object}\n",
    "        kernel_square = np.ones((5, 5), np.uint8)\n",
    "        dilation = cv2.dilate(median, kernel_square, iterations=2)\n",
    "        opening=cv2.morphologyEx(dilation,cv2.MORPH_CLOSE,kernel_square)\n",
    "        \n",
    "        # Threshold image\n",
    "        ret, thresh = cv2.threshold(opening, 30, 255, cv2.THRESH_BINARY)\n",
    "        # ROI\n",
    "        x, y, w, h = 300, 50, 350, 350\n",
    "        thresh = thresh[y:y + h, x:x + w]\n",
    "        # Finding Contours\n",
    "        contours, hierarchy = cv2.findContours(thresh.copy()  ,cv2.RETR_TREE, cv2.CHAIN_APPROX_NONE)\n",
    "        \n",
    "        if len(contours) > 0:\n",
    "            contour = max(contours, key=cv2.contourArea)\n",
    "            if flag_start_capturing == True:\n",
    "                x1, y1, w1, h1 = cv2.boundingRect(contour)\n",
    "                pic_no += 1\n",
    "                image_1 = thresh[y1:y1 + h1, x1:x1 + w1]\n",
    "                if w1 > h1:\n",
    "                    image_1 = cv2.copyMakeBorder(image_1, int((w1 - h1) / 2), int((w1 - h1) / 2), 0, 0,\n",
    "                                                  cv2.BORDER_CONSTANT, (0, 0, 0))\n",
    "                elif h1 > w1:\n",
    "                    image_1 = cv2.copyMakeBorder(image_1, 0, 0, int((h1 - w1) / 2), int((h1 - w1) / 2),\n",
    "                                                  cv2.BORDER_CONSTANT, (0, 0, 0))\n",
    "                final = cv2.resize(image_1, (x_image, y_image))\n",
    "                cv2.putText(frame, \"Capturing...\", (30, 60), cv2.FONT_HERSHEY_TRIPLEX, 2, (127, 255, 255))\n",
    "                # Saving Image\n",
    "                cv2.imwrite(str(\"Gestures/\" + g_id) +  \"/\" + str(pic_no) + \".jpg\", final)\n",
    "        \n",
    "        # Drawing Rectangle around ROI\n",
    "        cv2.rectangle(frame, (x, y), (x + w, y + h), (0, 255, 0), 2)\n",
    "        # Putting textof image number\n",
    "        cv2.putText(frame, str(pic_no), (30, 400), cv2.FONT_HERSHEY_TRIPLEX, 1.5, (127, 127, 255))\n",
    "        \n",
    "        cv2.imshow(\"Capturing gesture\", frame)\n",
    "        cv2.imshow(\"thresh\", thresh)\n",
    "        \n",
    "        # Taking input key\n",
    "        keypress = cv2.waitKey(1)\n",
    "        \n",
    "        # If input key is \"c\"\n",
    "        # Start capturing\n",
    "        if keypress == ord('c'):\n",
    "            if flag_start_capturing == False:\n",
    "                flag_start_capturing = True\n",
    "            else:\n",
    "                flag_start_capturing = False\n",
    "                frames = 0\n",
    "                \n",
    "        # If input key is \"q\"\n",
    "        if keypress == ord('q'):\n",
    "            break\n",
    "            \n",
    "        if flag_start_capturing == True:\n",
    "            frames += 1\n",
    "        if pic_no == total_images:\n",
    "            break\n",
    "        \n",
    "    cap.release\n",
    "    cv2.destroyAllWindows()"
   ]
  },
  {
   "cell_type": "code",
   "execution_count": null,
   "metadata": {},
   "outputs": [],
   "source": [
    "g_id = input(\"Enter the gesture no. : \")\n",
    "store_images(g_id)"
   ]
  }
 ],
 "metadata": {
  "kernelspec": {
   "display_name": "Python 3",
   "language": "python",
   "name": "python3"
  },
  "language_info": {
   "codemirror_mode": {
    "name": "ipython",
    "version": 3
   },
   "file_extension": ".py",
   "mimetype": "text/x-python",
   "name": "python",
   "nbconvert_exporter": "python",
   "pygments_lexer": "ipython3",
   "version": "3.8.5"
  }
 },
 "nbformat": 4,
 "nbformat_minor": 4
}
