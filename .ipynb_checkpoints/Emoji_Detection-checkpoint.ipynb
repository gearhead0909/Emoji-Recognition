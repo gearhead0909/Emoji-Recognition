{
 "cells": [
  {
   "cell_type": "markdown",
   "metadata": {},
   "source": [
    "# Emoji Detection"
   ]
  },
  {
   "cell_type": "code",
   "execution_count": 1,
   "metadata": {},
   "outputs": [],
   "source": [
    "import tensorflow as tf\n",
    "gpus = tf.config.experimental.list_physical_devices('GPU')\n",
    "if gpus:\n",
    "  try:\n",
    "    for gpu in gpus:\n",
    "      tf.config.experimental.set_memory_growth(gpu, True)\n",
    "  except RuntimeError as e:\n",
    "    print(e)"
   ]
  },
  {
   "cell_type": "code",
   "execution_count": 2,
   "metadata": {},
   "outputs": [],
   "source": [
    "import cv2\n",
    "from keras.models import load_model\n",
    "import numpy as np\n",
    "import os"
   ]
  },
  {
   "cell_type": "markdown",
   "metadata": {},
   "source": [
    "### Loading trained Model"
   ]
  },
  {
   "cell_type": "code",
   "execution_count": 3,
   "metadata": {},
   "outputs": [],
   "source": [
    "model = load_model('emoji_detection.h5')"
   ]
  },
  {
   "cell_type": "markdown",
   "metadata": {},
   "source": [
    "### Loading Emojis"
   ]
  },
  {
   "cell_type": "code",
   "execution_count": 9,
   "metadata": {},
   "outputs": [],
   "source": [
    "emoji_path = \"Emojis\"\n",
    "emoji = [0]\n",
    "for emj in range(len(os.listdir(emoji_path))):\n",
    "    a = emj+1\n",
    "    b = str(a)\n",
    "    dest = emoji_path + \"/\" + b + \".png\"\n",
    "    temp = cv2.imread(dest)\n",
    "    im = cv2.resize(temp, (90, 90))\n",
    "    emoji.append(im)"
   ]
  },
  {
   "cell_type": "markdown",
   "metadata": {},
   "source": [
    "### Initiating Camera and ROI"
   ]
  },
  {
   "cell_type": "code",
   "execution_count": 58,
   "metadata": {},
   "outputs": [],
   "source": [
    "# Opening Camera\n",
    "cap = cv2.VideoCapture(0)\n",
    "# ROI\n",
    "x, y, w, h = 300, 50, 350, 350"
   ]
  },
  {
   "cell_type": "code",
   "execution_count": 59,
   "metadata": {},
   "outputs": [],
   "source": [
    "flag = True\n",
    "while flag:\n",
    "    # Read image\n",
    "    ret, frame = cap.read()\n",
    "    # Flip Image\n",
    "    frame = cv2.flip(frame, 1)\n",
    "    # BGR2HSV\n",
    "    hsv = cv2.cvtColor(frame, cv2.COLOR_BGR2HSV)\n",
    "    # Extracting color from image\n",
    "    mask = cv2.inRange(hsv, np.array([2, 25, 78]), np.array([25, 150, 255]))\n",
    "    # Merging two images\n",
    "    res = cv2.bitwise_and(frame, frame, mask=mask)\n",
    "    # BGR2Gray\n",
    "    gray = cv2.cvtColor(res, cv2.COLOR_BGR2GRAY)\n",
    "    # Blurring image\n",
    "    median = cv2.GaussianBlur(gray, (5,5), 5)\n",
    "\n",
    "    # Dilation + Opening {Increasing area of object}\n",
    "    kernel_square = np.ones((5, 5), np.uint8)\n",
    "    dilation = cv2.dilate(median, kernel_square, iterations=2)\n",
    "    opening=cv2.morphologyEx(dilation,cv2.MORPH_CLOSE,kernel_square)\n",
    "    \n",
    "    # Threshold image\n",
    "    ret, thresh = cv2.threshold(opening, 30, 255, cv2.THRESH_BINARY)\n",
    "    # ROI\n",
    "    x, y, w, h = 300, 50, 350, 350\n",
    "    thresh = thresh[y:y + h, x:x + w]\n",
    "    # Finding Contours\n",
    "    contours, hierarchy = cv2.findContours(thresh.copy(),cv2.RETR_TREE, cv2.CHAIN_APPROX_NONE)\n",
    "    \n",
    "    if len(contours) > 0:\n",
    "        contour = max(contours, key=cv2.contourArea)\n",
    "        if cv2.contourArea(contour) > 2500:\n",
    "            # ROI\n",
    "            x, y, w1, h1 = cv2.boundingRect(contour)\n",
    "            # Cropping ROI\n",
    "            newImage = thresh[y:y + h1, x:x + w1]\n",
    "            newImage = cv2.resize(newImage, (50, 50))\n",
    "            # Pre-processing ROI\n",
    "            newImage = cv2.resize(newImage, (50, 50))\n",
    "            newImage = np.array(newImage, dtype=np.float32)\n",
    "            newImage = np.reshape(newImage, (-1, 50, 50, 1))\n",
    "            # Detecting Emoji\n",
    "            pred_probab = model.predict(newImage)[0]\n",
    "            pred_class = list(pred_probab).index(max(pred_probab))\n",
    "            pred_probab = max(pred_probab)\n",
    "            pred_class = pred_class\n",
    "            \n",
    "            frame[390:480, 540:630] = emoji[pred_class]\n",
    "        \n",
    "    # Marking ROI\n",
    "    cv2.rectangle(frame, (300, 50), (300 + 350, 50 + 350), (0, 255, 0), 2)\n",
    "    \n",
    "    # Showing predictions\n",
    "    cv2.imshow('asd',frame)\n",
    "    cv2.imshow(\"Contours\", thresh)\n",
    "      \n",
    "    # Taking input key\n",
    "    keypress = cv2.waitKey(1)\n",
    "        \n",
    "    # If \"q\" is pressed\n",
    "    # Terminate\n",
    "    if keypress == ord('q'):\n",
    "        flag = False\n",
    "\n",
    "cap.release()\n",
    "cv2.destroyAllWindows()"
   ]
  },
  {
   "cell_type": "code",
   "execution_count": null,
   "metadata": {},
   "outputs": [],
   "source": []
  }
 ],
 "metadata": {
  "kernelspec": {
   "display_name": "Python 3",
   "language": "python",
   "name": "python3"
  },
  "language_info": {
   "codemirror_mode": {
    "name": "ipython",
    "version": 3
   },
   "file_extension": ".py",
   "mimetype": "text/x-python",
   "name": "python",
   "nbconvert_exporter": "python",
   "pygments_lexer": "ipython3",
   "version": "3.8.5"
  }
 },
 "nbformat": 4,
 "nbformat_minor": 4
}
