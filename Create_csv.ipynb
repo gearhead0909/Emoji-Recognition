{
 "cells": [
  {
   "cell_type": "markdown",
   "metadata": {},
   "source": [
    "# Creating csv of the Dataset"
   ]
  },
  {
   "cell_type": "code",
   "execution_count": 1,
   "metadata": {},
   "outputs": [],
   "source": [
    "from PIL import Image, ImageOps\n",
    "import numpy as np\n",
    "import os\n",
    "import pandas as pd"
   ]
  },
  {
   "cell_type": "markdown",
   "metadata": {},
   "source": [
    "### Setting Dataset path"
   ]
  },
  {
   "cell_type": "code",
   "execution_count": 2,
   "metadata": {},
   "outputs": [],
   "source": [
    "path = 'Gestures'"
   ]
  },
  {
   "cell_type": "markdown",
   "metadata": {},
   "source": [
    "### Converting Image to array and save as .csv"
   ]
  },
  {
   "cell_type": "code",
   "execution_count": 7,
   "metadata": {},
   "outputs": [
    {
     "name": "stdout",
     "output_type": "stream",
     "text": [
      "----------Folder  9  done----------\n",
      "----------Folder  2  done----------\n",
      "----------Folder  11  done----------\n",
      "----------Folder  6  done----------\n",
      "----------Folder  5  done----------\n",
      "----------Folder  10  done----------\n",
      "----------Folder  1  done----------\n",
      "----------Folder  8  done----------\n",
      "----------Folder  7  done----------\n",
      "----------Folder  4  done----------\n",
      "----------Folder  3  done----------\n"
     ]
    }
   ],
   "source": [
    "for folder in os.listdir(path):\n",
    "    for file in os.listdir(path + '/' + folder):\n",
    "        # Setting image path\n",
    "        dest = path + \"/\" + folder + \"/\" + file\n",
    "        # Opening Image\n",
    "        img = Image.open(dest)\n",
    "        # Converting Image to array \n",
    "        value = np.asarray(img.getdata(), dtype=np.int)\n",
    "        value = value.flatten()\n",
    "        # Adding Labels\n",
    "        value = np.hstack((folder,value))\n",
    "        # Inserting values in a dataframe\n",
    "        df = pd.DataFrame(value).T\n",
    "        # Saving DataFrame\n",
    "        with open('data.csv', 'a') as dataset:\n",
    "            df.to_csv(dataset, header=False, index=False) \n",
    "    print (\"----------Folder \", folder,\" done----------\")"
   ]
  }
 ],
 "metadata": {
  "kernelspec": {
   "display_name": "Python 3",
   "language": "python",
   "name": "python3"
  },
  "language_info": {
   "codemirror_mode": {
    "name": "ipython",
    "version": 3
   },
   "file_extension": ".py",
   "mimetype": "text/x-python",
   "name": "python",
   "nbconvert_exporter": "python",
   "pygments_lexer": "ipython3",
   "version": "3.8.5"
  }
 },
 "nbformat": 4,
 "nbformat_minor": 4
}
